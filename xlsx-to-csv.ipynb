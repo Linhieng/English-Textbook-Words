{
 "cells": [
  {
   "cell_type": "code",
   "execution_count": 1,
   "metadata": {},
   "outputs": [],
   "source": [
    "import pandas as pd\n",
    "from re import match\n",
    "from os import listdir, mkdir\n",
    "from os.path import exists, isdir, join\n",
    "from collections import defaultdict\n",
    "\n",
    "unitsDir = 'XLSX'\n",
    "csvDir = 'CSV'\n",
    "if not exists(csvDir):\n",
    "    mkdir(csvDir)\n",
    "\n",
    "if exists(unitsDir) and isdir(unitsDir):\n",
    "    for file in listdir(unitsDir):\n",
    "        if isdir(file) or match(r'.*\\.xlsx', file) is None:\n",
    "            continue\n",
    "        \n",
    "        excel = pd.read_excel(join(unitsDir, file), header=None)\n",
    "        # 添加表头\n",
    "        col = defaultdict(lambda: 'chinese-translation')\n",
    "        col[0], col[1] = 'level', 'english-word'\n",
    "        excel.rename(columns={ c: col[c] for c in excel.columns.values }, inplace=True)\n",
    "        # 替换 3△ 为 3\n",
    "        excel.iloc[:, 0].replace(to_replace='3△', value='3', inplace=True)\n",
    "        # 转换为 csv 文件\n",
    "        excel.to_csv(join(csvDir, match(r'.*(BOOK\\d-Unit\\d\\.)xlsx', file).group(1) + 'csv'), index=False)"
   ]
  }
 ],
 "metadata": {
  "kernelspec": {
   "display_name": "Python 3",
   "language": "python",
   "name": "python3"
  },
  "language_info": {
   "codemirror_mode": {
    "name": "ipython",
    "version": 3
   },
   "file_extension": ".py",
   "mimetype": "text/x-python",
   "name": "python",
   "nbconvert_exporter": "python",
   "pygments_lexer": "ipython3",
   "version": "3.11.4"
  },
  "orig_nbformat": 4
 },
 "nbformat": 4,
 "nbformat_minor": 2
}
